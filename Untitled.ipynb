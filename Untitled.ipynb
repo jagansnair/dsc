{
 "cells": [
  {
   "cell_type": "code",
   "execution_count": 1,
   "id": "67d9badd-d312-44f8-bfea-0b8270e9b2db",
   "metadata": {},
   "outputs": [
    {
     "name": "stdout",
     "output_type": "stream",
     "text": [
      "Array indexing: slicing\n"
     ]
    },
    {
     "ename": "NameError",
     "evalue": "name 'np' is not defined",
     "output_type": "error",
     "traceback": [
      "\u001b[0;31m---------------------------------------------------------------------------\u001b[0m",
      "\u001b[0;31mNameError\u001b[0m                                 Traceback (most recent call last)",
      "Cell \u001b[0;32mIn[1], line 2\u001b[0m\n\u001b[1;32m      1\u001b[0m \u001b[38;5;28mprint\u001b[39m(\u001b[38;5;124m\"\u001b[39m\u001b[38;5;124mArray indexing: slicing\u001b[39m\u001b[38;5;124m\"\u001b[39m)\n\u001b[0;32m----> 2\u001b[0m al \u001b[38;5;241m=\u001b[39m np\u001b[38;5;241m.\u001b[39marray([[\u001b[38;5;241m1\u001b[39m,\u001b[38;5;241m2\u001b[39m,\u001b[38;5;241m3\u001b[39m,\u001b[38;5;241m4\u001b[39m],[\u001b[38;5;241m5\u001b[39m,\u001b[38;5;241m6\u001b[39m,\u001b[38;5;241m7\u001b[39m,\u001b[38;5;241m81\u001b[39m], [\u001b[38;5;241m9\u001b[39m,\u001b[38;5;241m10\u001b[39m,\u001b[38;5;241m11\u001b[39m,\u001b[38;5;241m1211\u001b[39m]])\n\u001b[1;32m      3\u001b[0m \u001b[38;5;28mprint\u001b[39m(\u001b[38;5;124m\"\u001b[39m\u001b[38;5;124mal = \u001b[39m\u001b[38;5;124m\"\u001b[39m,al)\n\u001b[1;32m      4\u001b[0m b\u001b[38;5;241m=\u001b[39m al[:\u001b[38;5;241m2\u001b[39m, \u001b[38;5;241m1\u001b[39m:\u001b[38;5;241m3\u001b[39m]\n",
      "\u001b[0;31mNameError\u001b[0m: name 'np' is not defined"
     ]
    }
   ],
   "source": [
    "print(\"Array indexing: slicing\")\n",
    "al = np.array([[1,2,3,4],[5,6,7,81], [9,10,11,1211]])\n",
    "print(\"al = \",al)\n",
    "b= al[:2, 1:3]\n",
    "print(\"Subarray consisting of first two rows and columns 1 and 2: \",b)\n",
    "b=al [1:2,:]\n",
    "print(\"Subarray consists of second row: \",b)\n",
    "print(\"Accessing columns: \")\n",
    "b=al[:,1]\n",
    "print(b,b.shape)\n",
    "c=al[:,1:2]\n",
    "print(c,c.shape)\n",
    "print(\"Array integer indexing: \")\n",
    "a2 = np.array([[1,2], [3, 4], [5, 6]])\n",
    "print(\"a2 = \",a2)\n",
    "print(\"Example of array integer indexing: \",a2[[0, 1, 2], [0, 1, 0]])\n",
    "print(a2[[0, 0],[1, 1]])\n",
    "print(np.array([a2[0, 1], a[0, 1]]))\n",
    "a3 = a = np.array([[1,2,3], [4,5,6], [7,8,9], [10, 11, 12]])\n",
    "print(\"a3 = \",a3)\n",
    "b = np.array([0, 2, 0, 1])\n",
    "print(\"b = \",b)\n",
    "print(\"a3 = \",a3[np.arange(4),b])\n",
    "\n",
    "a3[np.arange(4), b] += 10\n",
    "print(\" a3 = \",a3)\n",
    "print(\"Boolean array indexing: \")\n",
    "a = np.array([[1,2], [3, 4], [5, 6]])\n",
    "print(\"a = \",a)\n",
    "bool_idx= (a > 2)\n",
    "print(\"Elements greater than 2: \",a[bool_idx])"
   ]
  },
  {
   "cell_type": "code",
   "execution_count": null,
   "id": "05ba43b9-df75-4665-834f-c624b518c87c",
   "metadata": {},
   "outputs": [],
   "source": []
  }
 ],
 "metadata": {
  "kernelspec": {
   "display_name": "Python 3 (ipykernel)",
   "language": "python",
   "name": "python3"
  },
  "language_info": {
   "codemirror_mode": {
    "name": "ipython",
    "version": 3
   },
   "file_extension": ".py",
   "mimetype": "text/x-python",
   "name": "python",
   "nbconvert_exporter": "python",
   "pygments_lexer": "ipython3",
   "version": "3.12.4"
  }
 },
 "nbformat": 4,
 "nbformat_minor": 5
}
