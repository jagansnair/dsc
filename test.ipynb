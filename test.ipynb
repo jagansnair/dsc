{
 "cells": [
  {
   "cell_type": "code",
   "execution_count": 1,
   "id": "94b2f5e9-0815-4043-9530-ccc6544d74a2",
   "metadata": {},
   "outputs": [
    {
     "name": "stdout",
     "output_type": "stream",
     "text": [
      "hello\n"
     ]
    }
   ],
   "source": [
    "print(\"hello\")"
   ]
  },
  {
   "cell_type": "code",
   "execution_count": null,
   "id": "50c8c0aa-c91d-4af1-9625-ce8b0b550184",
   "metadata": {},
   "outputs": [],
   "source": []
  },
  {
   "cell_type": "code",
   "execution_count": 3,
   "id": "c59e316f-b8c8-4a25-bd1f-1759f6c0a1b8",
   "metadata": {},
   "outputs": [
    {
     "name": "stdout",
     "output_type": "stream",
     "text": [
      "demo pf basic types:number\n",
      "x= 3\n",
      "data type of varibale x: <class 'int'>\n",
      "data type of varibale y: <class 'float'>\n",
      "addition : 5.5\n",
      "subtraction : 0.5\n",
      "multipication: 6\n",
      "exponenteiation : 9\n"
     ]
    }
   ],
   "source": [
    "print(\"demo pf basic types:number\")\n",
    "x=3\n",
    "y=2.5\n",
    "print(\"x=\",x)\n",
    "print(\"data type of varibale x:\",type(x))\n",
    "print(\"data type of varibale y:\",type(y))\n",
    "print(\"addition :\",x+y) \n",
    "print(\"subtraction :\",x-y)\n",
    "print(\"multipication:\",x*2)\n",
    "print(\"exponenteiation :\",x**2)"
   ]
  },
  {
   "cell_type": "code",
   "execution_count": 6,
   "id": "bf8972c4-89cc-40cc-90e7-2cb94d444013",
   "metadata": {},
   "outputs": [
    {
     "name": "stdout",
     "output_type": "stream",
     "text": [
      "demo of basic data types:boolean\n",
      "data type of varable t: <class 'bool'>\n",
      "data type of varable f: <class 'bool'>\n",
      "logical AND operation: False\n",
      "logical OR operation: True\n",
      "logical NOT operation: True\n",
      "logical XOR operation: True\n"
     ]
    }
   ],
   "source": [
    "print(\"demo of basic data types:boolean\")\n",
    "t=True\n",
    "f=False\n",
    "print(\"data type of varable t:\",type(t))\n",
    "print(\"data type of varable f:\",type(f))\n",
    "print(\"logical AND operation:\",t and f)\n",
    "print(\"logical OR operation:\",t or f)\n",
    "print(\"logical NOT operation:\",not f)\n",
    "print(\"logical XOR operation:\",t!=f)\n",
    "      "
   ]
  },
  {
   "cell_type": "code",
   "execution_count": 13,
   "id": "fa3a29c8-7f89-439c-8d1c-69565be3194a",
   "metadata": {},
   "outputs": [
    {
     "name": "stdout",
     "output_type": "stream",
     "text": [
      "demo of basic data types:string\n",
      "string1: hello\n",
      "string2: world\n",
      "string concatenation: hello world\n",
      "capitalize: Hello world\n",
      "converted to upper case: HELLO\n",
      "right justiy a string:   hello\n",
      "string at center :  hello \n",
      "after replacing l with ell : he(ell)(ell)o\n",
      "string after striping leading and trailing white spaces: world\n"
     ]
    }
   ],
   "source": [
    "print(\"demo of basic data types:string\")\n",
    "s=\"hello\"\n",
    "t=\"world\"\n",
    "print(\"string1:\",s)\n",
    "print(\"string2:\",t)\n",
    "d=s+\" \"+t\n",
    "print(\"string concatenation:\",d)\n",
    "print(\"capitalize:\",d.capitalize())\n",
    "print(\"converted to upper case:\",s.upper())\n",
    "print(\"right justiy a string:\",s.rjust(7))\n",
    "print(\"string at center :\",s.center(7))\n",
    "print(\"after replacing l with ell :\",s.replace('l','(ell)'))\n",
    "print(\"string after striping leading and trailing white spaces:\",'world'.strip())\n"
   ]
  },
  {
   "cell_type": "code",
   "execution_count": 14,
   "id": "e0c55d3e-a771-4c59-9c3c-c7448d528170",
   "metadata": {},
   "outputs": [
    {
     "name": "stdout",
     "output_type": "stream",
     "text": [
      "containers.list\n",
      "list 'nums' contains: [0, 1, 2, 3, 4]\n",
      "list can contain elements of different types:example: [0, 1, 2, 3, 'abc']\n",
      "'nums'after inserting new elements at the end:\n",
      "sublists:\n",
      "a slice from index 2 to 4: [2, 3]\n",
      "a slice from index 2 to the end: [2, 3, 'abc', 'xyz']\n",
      "a slice from start to index 2: [0, 1]\n",
      "a slice of whole list: [0, 1, 2, 3, 'abc', 'xyz']\n",
      "after assiging a new sublist to 'nums':\n",
      "1:0\n",
      "list of squares of even number from 'nums': [0, 4, 64]\n",
      "2:1\n",
      "list of squares of even number from 'nums': [0, 4, 64]\n",
      "3:2\n",
      "list of squares of even number from 'nums': [0, 4, 64]\n",
      "4:3\n",
      "list of squares of even number from 'nums': [0, 4, 64]\n",
      "5:8\n",
      "list of squares of even number from 'nums': [0, 4, 64]\n",
      "6:9\n",
      "list of squares of even number from 'nums': [0, 4, 64]\n"
     ]
    }
   ],
   "source": [
    "print(\"containers.list\")\n",
    "nums=list(range(5))\n",
    "print(\"list 'nums' contains:\",nums)\n",
    "nums[4]=\"abc\"\n",
    "print(\"list can contain elements of different types:example:\",nums)\n",
    "nums.append(\"xyz\")\n",
    "print(\"'nums'after inserting new elements at the end:\")\n",
    "print(\"sublists:\")\n",
    "print(\"a slice from index 2 to 4:\",nums[2:4])\n",
    "print(\"a slice from index 2 to the end:\",nums[2:])\n",
    "print(\"a slice from start to index 2:\",nums[:2])\n",
    "print(\"a slice of whole list:\",nums[:])\n",
    "nums[4:]=[8,9]\n",
    "print(\"after assiging a new sublist to 'nums':\")\n",
    "for idx,i in enumerate (nums):\n",
    "    print('%d:%s'%(idx +1,i))\n",
    "    even_squares = [x**2 for x in nums if x%2==0]\n",
    "    print(\"list of squares of even number from 'nums':\",even_squares)\n"
   ]
  },
  {
   "cell_type": "code",
   "execution_count": 22,
   "id": "e8fa12eb-1d1c-4a7c-b21f-32836ca19c63",
   "metadata": {},
   "outputs": [
    {
     "name": "stdout",
     "output_type": "stream",
     "text": [
      "containers:dictionaries\n",
      "Dictionary : {'cat': 'cute', 'dog': 'furry'}\n",
      "ls the dictionary has the key'cat'? True\n",
      "after adding new entry to 'd' : {'cat': 'cute', 'dog': 'furry', 'fish': 'wet'}\n",
      "get an element monkey : N/A\n",
      "get an element fish : wet\n",
      "after detecting the newly added entry from 'd': {'cat': 'cute', 'dog': 'furry'}\n",
      "demo of dictionary comprehension :\n",
      "squares of integers of range 10 :\n",
      "0 : 0\n",
      "1 : 1\n",
      "2 : 4\n",
      "3 : 9\n",
      "4 : 16\n",
      "5 : 25\n",
      "6 : 36\n",
      "7 : 49\n",
      "8 : 64\n",
      "9 : 81\n"
     ]
    }
   ],
   "source": [
    "print(\"containers:dictionaries\")\n",
    "d=dict()\n",
    "d={'cat':'cute','dog':'furry'}\n",
    "print(\"Dictionary :\",d)\n",
    "print(\"ls the dictionary has the key'cat'?\",'cat'in d)\n",
    "d['fish']='wet'\n",
    "print(\"after adding new entry to 'd' :\",d)\n",
    "print(\"get an element monkey :\",d.get('monkey','N/A'))\n",
    "print(\"get an element fish :\",d.get('fish','N/A'))\n",
    "del d['fish']\n",
    "print(\"after detecting the newly added entry from 'd':\",d)\n",
    "print(\"demo of dictionary comprehension :\")\n",
    "squares={x:x*x for x in range(10)}\n",
    "print(\"squares of integers of range 10 :\")\n",
    "for k,v in squares.items():\n",
    "    print(k,\":\",v)"
   ]
  },
  {
   "cell_type": "code",
   "execution_count": 38,
   "id": "478f4aa9-7676-4e0a-807e-8a8c071da69e",
   "metadata": {},
   "outputs": [
    {
     "name": "stdout",
     "output_type": "stream",
     "text": [
      "Containers:Tuples\n",
      "dict with tuplekeys:\n",
      "(0, 1) : 0\n",
      "(1, 2) : 1\n",
      "(2, 3) : 2\n",
      "(3, 4) : 3\n",
      "(4, 5) : 4\n",
      "(5, 6) : 5\n",
      "(6, 7) : 6\n",
      "(7, 8) : 7\n",
      "(8, 9) : 8\n",
      "(9, 10) : 9\n",
      "tuple t: (5, 6)\n",
      "5\n",
      "1\n",
      "containers:tuples\n",
      "dict with tupleskey:\n",
      "(0, 1) : 0\n",
      "(1, 2) : 1\n",
      "(2, 3) : 2\n",
      "(3, 4) : 3\n",
      "(4, 5) : 4\n",
      "(5, 6) : 5\n",
      "(6, 7) : 6\n",
      "(7, 8) : 7\n",
      "(8, 9) : 8\n",
      "(9, 10) : 9\n",
      "tuple t: (5, 6)\n",
      "5\n",
      "1\n"
     ]
    }
   ],
   "source": [
    "print('Containers:Tuples')\n",
    "d={(x,x+1):x for x in range(10)}\n",
    "print(\"dict with tuplekeys:\")\n",
    "for k,v in d.items():\n",
    "    print(k,\":\",v)\n",
    "t=(5,6)\n",
    "print(\"tuple t:\",t)\n",
    "print(d[t])\n",
    "print(d[1,2])\n",
    "print('containers:tuples')\n",
    "d={(x,x+1):x for x in range(10)}\n",
    "print(\"dict with tupleskey:\")\n",
    "for k,v in d.items():\n",
    "    print(k,\":\",v)\n",
    "t=(5,6)\n",
    "print(\"tuple t:\",t)\n",
    "print(d[t])\n",
    "print(d[1,2])"
   ]
  },
  {
   "cell_type": "code",
   "execution_count": 42,
   "id": "1710d4ec-360c-4b22-b742-4e00da886e2b",
   "metadata": {},
   "outputs": [
    {
     "name": "stdout",
     "output_type": "stream",
     "text": [
      "demo of function:program to find factorial of a number\n"
     ]
    },
    {
     "name": "stdin",
     "output_type": "stream",
     "text": [
      "enter a number: 5\n"
     ]
    },
    {
     "name": "stdout",
     "output_type": "stream",
     "text": [
      "factorial : 120\n"
     ]
    }
   ],
   "source": [
    "print(\"demo of function:program to find factorial of a number\")\n",
    "def fact(n):\n",
    "    if n==1:\n",
    "       return 1\n",
    "    else:\n",
    "        return(n *fact(n-1))\n",
    "n=int(input(\"enter a number:\"))\n",
    "print(\"factorial :\",fact(n))"
   ]
  },
  {
   "cell_type": "code",
   "execution_count": 49,
   "id": "9a48dbca-86b9-4683-ad04-d6aa3fca61e9",
   "metadata": {},
   "outputs": [
    {
     "name": "stdout",
     "output_type": "stream",
     "text": [
      "hellofred\n",
      "Hello,FRED!\n"
     ]
    }
   ],
   "source": [
    "class Greeter:\n",
    "          def __init__(self,name):\n",
    "                 self.name=name\n",
    "          def greet(self,loud=False):\n",
    "              if loud:\n",
    "                      print('Hello,%s!'% self.name.upper())\n",
    "              else:\n",
    "                      print('hello%s'%self.name)\n",
    "g=Greeter('fred')\n",
    "g.greet()\n",
    "g.greet(loud=True)"
   ]
  },
  {
   "cell_type": "code",
   "execution_count": null,
   "id": "d0907188-ba19-4b46-83de-c24993ef0b17",
   "metadata": {},
   "outputs": [],
   "source": []
  }
 ],
 "metadata": {
  "kernelspec": {
   "display_name": "Python 3 (ipykernel)",
   "language": "python",
   "name": "python3"
  },
  "language_info": {
   "codemirror_mode": {
    "name": "ipython",
    "version": 3
   },
   "file_extension": ".py",
   "mimetype": "text/x-python",
   "name": "python",
   "nbconvert_exporter": "python",
   "pygments_lexer": "ipython3",
   "version": "3.12.4"
  }
 },
 "nbformat": 4,
 "nbformat_minor": 5
}
